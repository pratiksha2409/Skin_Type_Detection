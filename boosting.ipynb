{
  "nbformat": 4,
  "nbformat_minor": 0,
  "metadata": {
    "colab": {
      "provenance": [],
      "gpuType": "T4"
    },
    "kernelspec": {
      "name": "python3",
      "display_name": "Python 3"
    },
    "language_info": {
      "name": "python"
    },
    "accelerator": "GPU"
  },
  "cells": [
    {
      "cell_type": "code",
      "source": [
        "import os\n",
        "import cv2\n",
        "import numpy as np\n",
        "from sklearn.ensemble import AdaBoostClassifier\n",
        "from sklearn.tree import DecisionTreeClassifier\n",
        "\n",
        "# Function to extract features from images after resizing\n",
        "def extract_features(image_path, target_size=(100, 100)):\n",
        "    image = cv2.imread(image_path)\n",
        "    if image is None:\n",
        "        print(f\"Error: Unable to read image '{image_path}'\")\n",
        "        return None\n",
        "    # Resize the image to a fixed size\n",
        "    image = cv2.resize(image, target_size)\n",
        "    # Flatten the image pixels as features\n",
        "    return image.flatten()\n",
        "\n",
        "# Path to the dataset folder\n",
        "dataset_folder = '/content/sample_data/skin-dataset'\n",
        "\n",
        "# List to store features and labels\n",
        "features = []\n",
        "labels = []\n",
        "\n",
        "# Mapping for skin types to labels\n",
        "label_mapping = {\"dry\": 0, \"normal\": 1, \"oily\": 2}\n",
        "\n",
        "# Iterate over subfolders (dry, normal, and oily)\n",
        "for skin_type in os.listdir(dataset_folder):\n",
        "    skin_type_folder = os.path.join(dataset_folder, skin_type)\n",
        "    if os.path.isdir(skin_type_folder):\n",
        "        label = label_mapping.get(skin_type)\n",
        "        # Iterate over each image file in the subfolder\n",
        "        for filename in os.listdir(skin_type_folder):\n",
        "            if filename.endswith(\".jpg\") or filename.endswith(\".jpeg\"):\n",
        "                # Extract features from the image\n",
        "                image_path = os.path.join(skin_type_folder, filename)\n",
        "                image_features = extract_features(image_path)\n",
        "                if image_features is not None:\n",
        "                    # Add features and corresponding label to lists\n",
        "                    features.append(image_features)\n",
        "                    labels.append(label)\n",
        "\n",
        "# Convert lists to numpy arrays\n",
        "X = np.array(features)\n",
        "y = np.array(labels)\n",
        "\n",
        "# Check if X or y is empty\n",
        "if len(X) == 0 or len(y) == 0:\n",
        "    print(\"Error: No data found\")\n",
        "    exit()\n",
        "\n",
        "# Initialize the base classifier (Decision Tree)\n",
        "base_classifier = DecisionTreeClassifier(max_depth=1)\n",
        "\n",
        "# Initialize the AdaBoost Classifier\n",
        "adaboost_classifier = AdaBoostClassifier(base_estimator=base_classifier, n_estimators=100, random_state=42)\n",
        "\n",
        "# Training the AdaBoost Classifier on the entire dataset\n",
        "adaboost_classifier.fit(X, y)\n",
        "\n",
        "\n"
      ],
      "metadata": {
        "colab": {
          "base_uri": "https://localhost:8080/",
          "height": 194
        },
        "id": "0V8nchDvFNzc",
        "outputId": "3852680c-fad4-49bc-c11c-6c68bb4cbdec"
      },
      "execution_count": 2,
      "outputs": [
        {
          "output_type": "stream",
          "name": "stderr",
          "text": [
            "/usr/local/lib/python3.10/dist-packages/sklearn/ensemble/_base.py:166: FutureWarning: `base_estimator` was renamed to `estimator` in version 1.2 and will be removed in 1.4.\n",
            "  warnings.warn(\n"
          ]
        },
        {
          "output_type": "execute_result",
          "data": {
            "text/plain": [
              "AdaBoostClassifier(base_estimator=DecisionTreeClassifier(max_depth=1),\n",
              "                   n_estimators=100, random_state=42)"
            ],
            "text/html": [
              "<style>#sk-container-id-1 {color: black;background-color: white;}#sk-container-id-1 pre{padding: 0;}#sk-container-id-1 div.sk-toggleable {background-color: white;}#sk-container-id-1 label.sk-toggleable__label {cursor: pointer;display: block;width: 100%;margin-bottom: 0;padding: 0.3em;box-sizing: border-box;text-align: center;}#sk-container-id-1 label.sk-toggleable__label-arrow:before {content: \"▸\";float: left;margin-right: 0.25em;color: #696969;}#sk-container-id-1 label.sk-toggleable__label-arrow:hover:before {color: black;}#sk-container-id-1 div.sk-estimator:hover label.sk-toggleable__label-arrow:before {color: black;}#sk-container-id-1 div.sk-toggleable__content {max-height: 0;max-width: 0;overflow: hidden;text-align: left;background-color: #f0f8ff;}#sk-container-id-1 div.sk-toggleable__content pre {margin: 0.2em;color: black;border-radius: 0.25em;background-color: #f0f8ff;}#sk-container-id-1 input.sk-toggleable__control:checked~div.sk-toggleable__content {max-height: 200px;max-width: 100%;overflow: auto;}#sk-container-id-1 input.sk-toggleable__control:checked~label.sk-toggleable__label-arrow:before {content: \"▾\";}#sk-container-id-1 div.sk-estimator input.sk-toggleable__control:checked~label.sk-toggleable__label {background-color: #d4ebff;}#sk-container-id-1 div.sk-label input.sk-toggleable__control:checked~label.sk-toggleable__label {background-color: #d4ebff;}#sk-container-id-1 input.sk-hidden--visually {border: 0;clip: rect(1px 1px 1px 1px);clip: rect(1px, 1px, 1px, 1px);height: 1px;margin: -1px;overflow: hidden;padding: 0;position: absolute;width: 1px;}#sk-container-id-1 div.sk-estimator {font-family: monospace;background-color: #f0f8ff;border: 1px dotted black;border-radius: 0.25em;box-sizing: border-box;margin-bottom: 0.5em;}#sk-container-id-1 div.sk-estimator:hover {background-color: #d4ebff;}#sk-container-id-1 div.sk-parallel-item::after {content: \"\";width: 100%;border-bottom: 1px solid gray;flex-grow: 1;}#sk-container-id-1 div.sk-label:hover label.sk-toggleable__label {background-color: #d4ebff;}#sk-container-id-1 div.sk-serial::before {content: \"\";position: absolute;border-left: 1px solid gray;box-sizing: border-box;top: 0;bottom: 0;left: 50%;z-index: 0;}#sk-container-id-1 div.sk-serial {display: flex;flex-direction: column;align-items: center;background-color: white;padding-right: 0.2em;padding-left: 0.2em;position: relative;}#sk-container-id-1 div.sk-item {position: relative;z-index: 1;}#sk-container-id-1 div.sk-parallel {display: flex;align-items: stretch;justify-content: center;background-color: white;position: relative;}#sk-container-id-1 div.sk-item::before, #sk-container-id-1 div.sk-parallel-item::before {content: \"\";position: absolute;border-left: 1px solid gray;box-sizing: border-box;top: 0;bottom: 0;left: 50%;z-index: -1;}#sk-container-id-1 div.sk-parallel-item {display: flex;flex-direction: column;z-index: 1;position: relative;background-color: white;}#sk-container-id-1 div.sk-parallel-item:first-child::after {align-self: flex-end;width: 50%;}#sk-container-id-1 div.sk-parallel-item:last-child::after {align-self: flex-start;width: 50%;}#sk-container-id-1 div.sk-parallel-item:only-child::after {width: 0;}#sk-container-id-1 div.sk-dashed-wrapped {border: 1px dashed gray;margin: 0 0.4em 0.5em 0.4em;box-sizing: border-box;padding-bottom: 0.4em;background-color: white;}#sk-container-id-1 div.sk-label label {font-family: monospace;font-weight: bold;display: inline-block;line-height: 1.2em;}#sk-container-id-1 div.sk-label-container {text-align: center;}#sk-container-id-1 div.sk-container {/* jupyter's `normalize.less` sets `[hidden] { display: none; }` but bootstrap.min.css set `[hidden] { display: none !important; }` so we also need the `!important` here to be able to override the default hidden behavior on the sphinx rendered scikit-learn.org. See: https://github.com/scikit-learn/scikit-learn/issues/21755 */display: inline-block !important;position: relative;}#sk-container-id-1 div.sk-text-repr-fallback {display: none;}</style><div id=\"sk-container-id-1\" class=\"sk-top-container\"><div class=\"sk-text-repr-fallback\"><pre>AdaBoostClassifier(base_estimator=DecisionTreeClassifier(max_depth=1),\n",
              "                   n_estimators=100, random_state=42)</pre><b>In a Jupyter environment, please rerun this cell to show the HTML representation or trust the notebook. <br />On GitHub, the HTML representation is unable to render, please try loading this page with nbviewer.org.</b></div><div class=\"sk-container\" hidden><div class=\"sk-item sk-dashed-wrapped\"><div class=\"sk-label-container\"><div class=\"sk-label sk-toggleable\"><input class=\"sk-toggleable__control sk-hidden--visually\" id=\"sk-estimator-id-1\" type=\"checkbox\" ><label for=\"sk-estimator-id-1\" class=\"sk-toggleable__label sk-toggleable__label-arrow\">AdaBoostClassifier</label><div class=\"sk-toggleable__content\"><pre>AdaBoostClassifier(base_estimator=DecisionTreeClassifier(max_depth=1),\n",
              "                   n_estimators=100, random_state=42)</pre></div></div></div><div class=\"sk-parallel\"><div class=\"sk-parallel-item\"><div class=\"sk-item\"><div class=\"sk-label-container\"><div class=\"sk-label sk-toggleable\"><input class=\"sk-toggleable__control sk-hidden--visually\" id=\"sk-estimator-id-2\" type=\"checkbox\" ><label for=\"sk-estimator-id-2\" class=\"sk-toggleable__label sk-toggleable__label-arrow\">base_estimator: DecisionTreeClassifier</label><div class=\"sk-toggleable__content\"><pre>DecisionTreeClassifier(max_depth=1)</pre></div></div></div><div class=\"sk-serial\"><div class=\"sk-item\"><div class=\"sk-estimator sk-toggleable\"><input class=\"sk-toggleable__control sk-hidden--visually\" id=\"sk-estimator-id-3\" type=\"checkbox\" ><label for=\"sk-estimator-id-3\" class=\"sk-toggleable__label sk-toggleable__label-arrow\">DecisionTreeClassifier</label><div class=\"sk-toggleable__content\"><pre>DecisionTreeClassifier(max_depth=1)</pre></div></div></div></div></div></div></div></div></div></div>"
            ]
          },
          "metadata": {},
          "execution_count": 2
        }
      ]
    },
    {
      "cell_type": "code",
      "source": [
        "# Example usage: Predicting labels for new images\n",
        "# Replace 'new_image_path' with the path to the new image\n",
        "new_image_path = '/content/sample_data/skin-dataset/oily/oily(1).png'\n",
        "new_image_features = extract_features(new_image_path)\n",
        "if new_image_features is not None:\n",
        "    predicted_label = adaboost_classifier.predict([new_image_features])[0]\n",
        "    predicted_skin_type = {v: k for k, v in label_mapping.items()}.get(predicted_label)\n",
        "    print(\"Predicted skin type:\", predicted_skin_type)"
      ],
      "metadata": {
        "colab": {
          "base_uri": "https://localhost:8080/"
        },
        "id": "owmrVw1SI3h3",
        "outputId": "9259c811-c60d-4ad5-882d-b9bc8cc1ea4c"
      },
      "execution_count": 7,
      "outputs": [
        {
          "output_type": "stream",
          "name": "stdout",
          "text": [
            "Predicted skin type: oily\n"
          ]
        }
      ]
    },
    {
      "cell_type": "code",
      "source": [
        "from sklearn.metrics import accuracy_score"
      ],
      "metadata": {
        "id": "xC3-2RQSKPkz"
      },
      "execution_count": 9,
      "outputs": []
    },
    {
      "cell_type": "code",
      "source": [
        "import os\n",
        "import cv2\n",
        "import numpy as np\n",
        "from sklearn.ensemble import AdaBoostClassifier\n",
        "from sklearn.tree import DecisionTreeClassifier\n",
        "from sklearn.model_selection import train_test_split\n",
        "from sklearn.metrics import accuracy_score\n",
        "\n",
        "# Function to extract features from images after resizing\n",
        "def extract_features(image_path, target_size=(100, 100)):\n",
        "    image = cv2.imread(image_path)\n",
        "    if image is None:\n",
        "        print(f\"Error: Unable to read image '{image_path}'\")\n",
        "        return None\n",
        "    # Resize the image to a fixed size\n",
        "    image = cv2.resize(image, target_size)\n",
        "    # Flatten the image pixels as features\n",
        "    return image.flatten()\n",
        "\n",
        "# Path to the dataset folder\n",
        "dataset_folder = '/content/sample_data/skin-dataset'\n",
        "\n",
        "# List to store features and labels\n",
        "features = []\n",
        "labels = []\n",
        "\n",
        "# Mapping for skin types to labels\n",
        "label_mapping = {\"dry\": 0, \"normal\": 1, \"oily\": 2}\n",
        "\n",
        "# Iterate over subfolders (dry, normal, and oily)\n",
        "for skin_type in os.listdir(dataset_folder):\n",
        "    skin_type_folder = os.path.join(dataset_folder, skin_type)\n",
        "    if os.path.isdir(skin_type_folder):\n",
        "        label = label_mapping.get(skin_type)\n",
        "        # Iterate over each image file in the subfolder\n",
        "        for filename in os.listdir(skin_type_folder):\n",
        "            if filename.endswith(\".jpg\") or filename.endswith(\".jpeg\"):\n",
        "                # Extract features from the image\n",
        "                image_path = os.path.join(skin_type_folder, filename)\n",
        "                image_features = extract_features(image_path)\n",
        "                if image_features is not None:\n",
        "                    # Add features and corresponding label to lists\n",
        "                    features.append(image_features)\n",
        "                    labels.append(label)\n",
        "\n",
        "# Convert lists to numpy arrays\n",
        "X = np.array(features)\n",
        "y = np.array(labels)\n",
        "\n",
        "# Splitting the dataset into train and test sets\n",
        "X_train, X_test, y_train, y_test = train_test_split(X, y, test_size=0.2, random_state=42)\n",
        "\n",
        "# Check if X_train or y_train is empty\n",
        "if len(X_train) == 0 or len(y_train) == 0:\n",
        "    print(\"Error: No training data found\")\n",
        "    exit()\n",
        "\n",
        "# Initialize the base classifier (Decision Tree)\n",
        "base_classifier = DecisionTreeClassifier(max_depth=1)\n",
        "\n",
        "# Initialize the AdaBoost Classifier\n",
        "adaboost_classifier = AdaBoostClassifier(base_estimator=base_classifier, n_estimators=100, random_state=42)\n",
        "\n",
        "# Training the AdaBoost Classifier on the training data\n",
        "adaboost_classifier.fit(X_train, y_train)\n",
        "\n",
        "# Predicting labels for the test set\n",
        "y_pred = adaboost_classifier.predict(X_test)\n",
        "\n",
        "# Calculating accuracy\n",
        "accuracy = accuracy_score(y_test, y_pred)\n",
        "print(\"Accuracy:\", accuracy)\n"
      ],
      "metadata": {
        "colab": {
          "base_uri": "https://localhost:8080/"
        },
        "id": "XEHO7pxuKtL1",
        "outputId": "115af182-1224-49b1-df11-9c05b5fb2e60"
      },
      "execution_count": 12,
      "outputs": [
        {
          "output_type": "stream",
          "name": "stderr",
          "text": [
            "/usr/local/lib/python3.10/dist-packages/sklearn/ensemble/_base.py:166: FutureWarning: `base_estimator` was renamed to `estimator` in version 1.2 and will be removed in 1.4.\n",
            "  warnings.warn(\n"
          ]
        },
        {
          "output_type": "stream",
          "name": "stdout",
          "text": [
            "Accuracy: 0.7572815533980582\n"
          ]
        }
      ]
    }
  ]
}