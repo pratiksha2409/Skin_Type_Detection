{
  "nbformat": 4,
  "nbformat_minor": 0,
  "metadata": {
    "colab": {
      "provenance": [],
      "authorship_tag": "ABX9TyOecKaTVMgFMQk5pj1np1Si",
      "include_colab_link": true
    },
    "kernelspec": {
      "name": "python3",
      "display_name": "Python 3"
    },
    "language_info": {
      "name": "python"
    }
  },
  "cells": [
    {
      "cell_type": "markdown",
      "metadata": {
        "id": "view-in-github",
        "colab_type": "text"
      },
      "source": [
        "<a href=\"https://colab.research.google.com/github/pratiksha2409/Skin_Type_Detection/blob/main/RandomForest2.ipynb\" target=\"_parent\"><img src=\"https://colab.research.google.com/assets/colab-badge.svg\" alt=\"Open In Colab\"/></a>"
      ]
    },
    {
      "cell_type": "code",
      "execution_count": 1,
      "metadata": {
        "id": "YF2ffkk-n6S6"
      },
      "outputs": [],
      "source": [
        "import os\n",
        "os.environ['KAGGLE_CONFIG_DIR'] = '/content'"
      ]
    },
    {
      "cell_type": "code",
      "source": [
        "import numpy as np\n",
        "import matplotlib.pyplot as plt\n",
        "import pandas as pd"
      ],
      "metadata": {
        "id": "jYlsNgR0pgI5"
      },
      "execution_count": 3,
      "outputs": []
    },
    {
      "cell_type": "code",
      "source": [
        "import os\n",
        "import cv2\n",
        "import numpy as np\n",
        "from sklearn.ensemble import RandomForestClassifier\n",
        "from sklearn.model_selection import train_test_split\n",
        "from sklearn.metrics import accuracy_score\n",
        "\n",
        "# Define a function to extract features from images (e.g., color histograms)\n",
        "def extract_features(image_path):\n",
        "    image = cv2.imread(image_path)\n",
        "    if image is None:\n",
        "        print(f\"Error: Unable to read image '{image_path}'\")\n",
        "        return None\n",
        "    hist = cv2.calcHist([image], [0, 1, 2], None, [8, 8, 8], [0, 256, 0, 256, 0, 256])\n",
        "    hist = cv2.normalize(hist, hist).flatten()  # Flatten histogram to 1D array\n",
        "    return hist\n",
        "\n",
        "# Path to your dataset folder\n",
        "dataset_folder = '/content/sample_data/skin-dataset'\n",
        "\n",
        "# List to store features and labels\n",
        "features = []\n",
        "labels = []\n",
        "\n",
        "# Iterate over subfolders (oily and dry)\n",
        "for label in os.listdir(dataset_folder):\n",
        "    label_folder = os.path.join(dataset_folder, label)\n",
        "    if os.path.isdir(label_folder):\n",
        "        # Iterate over each image file in the subfolder\n",
        "        for filename in os.listdir(label_folder):\n",
        "            if filename.endswith(\".jpg\") or filename.endswith(\".jpeg\"):\n",
        "                # Extract features from the image\n",
        "                image_path = os.path.join(label_folder, filename)\n",
        "                image_features = extract_features(image_path)\n",
        "                if image_features is not None:\n",
        "                    # Add features and corresponding label to lists\n",
        "                    features.append(image_features)\n",
        "                    labels.append(label)\n",
        "\n",
        "# Convert lists to numpy arrays\n",
        "X = np.array(features)\n",
        "y = np.array(labels)\n",
        "\n",
        "# Check if X or y is empty\n",
        "if len(X) == 0 or len(y) == 0:\n",
        "    print(\"Error: No data found\")\n",
        "    exit()\n",
        "\n",
        "# Splitting the dataset into train and test sets\n",
        "X_train, X_test, y_train, y_test = train_test_split(X, y, test_size=0.2, random_state=42)\n",
        "\n",
        "# Initialize the Random Forest Classifier\n",
        "rf_classifier = RandomForestClassifier(n_estimators=100, random_state=42)\n",
        "\n",
        "# Training the classifier on the training data\n",
        "rf_classifier.fit(X_train, y_train)\n",
        "\n",
        "# Predicting labels for the test set\n",
        "y_pred = rf_classifier.predict(X_test)\n",
        "\n",
        "# Calculating accuracy\n",
        "accuracy = accuracy_score(y_test, y_pred)\n",
        "print(\"Accuracy:\", accuracy)\n"
      ],
      "metadata": {
        "colab": {
          "base_uri": "https://localhost:8080/"
        },
        "id": "5ZA6BqizrQGw",
        "outputId": "217db723-edc2-4fb8-ae16-1157afbb2923"
      },
      "execution_count": 6,
      "outputs": [
        {
          "output_type": "stream",
          "name": "stdout",
          "text": [
            "Accuracy: 0.8645833333333334\n"
          ]
        }
      ]
    },
    {
      "cell_type": "code",
      "source": [
        "f1 = f1_score(y_test, y_pred, average='weighted')\n",
        "print(\"F1 Score:\", f1)"
      ],
      "metadata": {
        "colab": {
          "base_uri": "https://localhost:8080/"
        },
        "id": "6vCPLDULsK_0",
        "outputId": "e8810b8a-4460-4023-c4bc-c80db77ce128"
      },
      "execution_count": 8,
      "outputs": [
        {
          "output_type": "stream",
          "name": "stdout",
          "text": [
            "F1 Score: 0.8545015868060974\n"
          ]
        }
      ]
    },
    {
      "cell_type": "code",
      "source": [],
      "metadata": {
        "id": "aQZwoJ6KsbqJ"
      },
      "execution_count": null,
      "outputs": []
    }
  ]
}