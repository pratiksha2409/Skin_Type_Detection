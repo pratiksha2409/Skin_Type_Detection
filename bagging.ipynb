{
  "nbformat": 4,
  "nbformat_minor": 0,
  "metadata": {
    "colab": {
      "provenance": []
    },
    "kernelspec": {
      "name": "python3",
      "display_name": "Python 3"
    },
    "language_info": {
      "name": "python"
    }
  },
  "cells": [
    {
      "cell_type": "code",
      "source": [
        "import os\n",
        "import cv2\n",
        "import numpy as np\n",
        "from sklearn.ensemble import BaggingClassifier\n",
        "from sklearn.tree import DecisionTreeClassifier\n",
        "from sklearn.model_selection import train_test_split\n",
        "from sklearn.metrics import accuracy_score\n",
        "\n",
        "# Function to extract features from images after resizing\n",
        "def extract_features(image_path, target_size=(100, 100)):\n",
        "    image = cv2.imread(image_path)\n",
        "    if image is None:\n",
        "        print(f\"Error: Unable to read image '{image_path}'\")\n",
        "        return None\n",
        "    # Resize the image to a fixed size\n",
        "    image = cv2.resize(image, target_size)\n",
        "    # Flatten the image pixels as features\n",
        "    return image.flatten()\n",
        "\n",
        "# Path to the dataset folder\n",
        "dataset_folder = '/content/sample_data/skin-dataset'\n",
        "\n",
        "# List to store features and labels\n",
        "features = []\n",
        "labels = []\n",
        "\n",
        "# Iterate over subfolders (oily, dry, and normal)\n",
        "for skin_type in os.listdir(dataset_folder):\n",
        "    # Skip '.ipynb_checkpoints' folder\n",
        "    if skin_type == '.ipynb_checkpoints':\n",
        "        continue\n",
        "    skin_type_folder = os.path.join(dataset_folder, skin_type)\n",
        "    # Skip non-directory items\n",
        "    if not os.path.isdir(skin_type_folder):\n",
        "        continue\n",
        "    # Assign label index for each skin type\n",
        "    label_index = ['dry', 'normal', 'oily'].index(skin_type)\n",
        "    # Iterate over each image file in the subfolder\n",
        "    for filename in os.listdir(skin_type_folder):\n",
        "        if filename.endswith(\".jpg\") or filename.endswith(\".jpeg\"):\n",
        "            # Extract features from the image\n",
        "            image_path = os.path.join(skin_type_folder, filename)\n",
        "            image_features = extract_features(image_path)\n",
        "            if image_features is not None:\n",
        "                # Add features and corresponding label to lists\n",
        "                features.append(image_features)\n",
        "                labels.append(label_index)\n",
        "\n",
        "# Convert lists to numpy arrays\n",
        "X = np.array(features)\n",
        "y = np.array(labels)\n",
        "\n",
        "# Check if X or y is empty\n",
        "if len(X) == 0 or len(y) == 0:\n",
        "    print(\"Error: No data found\")\n",
        "    exit()\n",
        "\n",
        "# Splitting the dataset into train and test sets\n",
        "X_train, X_test, y_train, y_test = train_test_split(X, y, test_size=0.2, random_state=42)\n",
        "\n",
        "# Initialize base classifier (Decision Tree)\n",
        "base_classifier = DecisionTreeClassifier()\n",
        "\n",
        "# Initialize the BaggingClassifier\n",
        "bagging_classifier = BaggingClassifier(base_estimator=base_classifier, n_estimators=100, random_state=42)\n",
        "\n",
        "# Training the BaggingClassifier on the training data\n",
        "bagging_classifier.fit(X_train, y_train)\n",
        "\n",
        "# Predicting labels for the test set\n",
        "y_pred = bagging_classifier.predict(X_test)\n",
        "\n",
        "# Calculating accuracy\n",
        "accuracy = accuracy_score(y_test, y_pred)\n",
        "print(\"Accuracy:\", accuracy)\n"
      ],
      "metadata": {
        "colab": {
          "base_uri": "https://localhost:8080/"
        },
        "id": "M_O1m1bo_EZ8",
        "outputId": "c8ab9561-0a7d-4686-dd3f-5bc1d862a089"
      },
      "execution_count": 1,
      "outputs": [
        {
          "output_type": "stream",
          "name": "stderr",
          "text": [
            "/usr/local/lib/python3.10/dist-packages/sklearn/ensemble/_base.py:166: FutureWarning: `base_estimator` was renamed to `estimator` in version 1.2 and will be removed in 1.4.\n",
            "  warnings.warn(\n"
          ]
        },
        {
          "output_type": "stream",
          "name": "stdout",
          "text": [
            "Accuracy: 0.883495145631068\n"
          ]
        }
      ]
    },
    {
      "cell_type": "code",
      "source": [],
      "metadata": {
        "id": "xSB0GcR8_Fa1"
      },
      "execution_count": null,
      "outputs": []
    }
  ]
}